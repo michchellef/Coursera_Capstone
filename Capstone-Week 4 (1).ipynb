{
 "cells": [
  {
   "cell_type": "markdown",
   "metadata": {
    "collapsed": true
   },
   "source": [
    "# Capstone Project - The Battle of Neighborhoods (Week 1)"
   ]
  },
  {
   "cell_type": "markdown",
   "metadata": {},
   "source": [
    "### 1) A description of the problem and a discussion of the background"
   ]
  },
  {
   "cell_type": "markdown",
   "metadata": {},
   "source": [
    "The COVID-19 pandemic has hit the economy hard and has negatively impacted many businesses, but the restaurant industry has been particularly affected. It is of interest to restaurant investors, corporations, and the municipal government to see which Toronto neighborhoods contain the highest proportion of restautants compared to other businesses. This would allow for appropriate financial aid allocations, future investments, and planning for re-opening the economy. The goal of this project will be to cluster Toronto neighbourhoods (Downtown Toronto, Central Toronto, East Toronto, and West Toronto boroughs only) into groups by proportion of restaurants to other businesses."
   ]
  },
  {
   "cell_type": "markdown",
   "metadata": {},
   "source": [
    "### 2) A description of the data and how it will be used to solve the problem"
   ]
  },
  {
   "cell_type": "markdown",
   "metadata": {},
   "source": [
    "i. A list of Toronto neighborhoods with corresponding boroughs and postal codes are available from the Wikipedia page: \\\n",
    "   'List of postal codes of Canada: M' (https://en.wikipedia.org/wiki/List_of_postal_codes_of_Canada:_M)."
   ]
  },
  {
   "cell_type": "markdown",
   "metadata": {},
   "source": [
    "ii. The Wikipedia page will be scraped to obtain neighborhood information into a Pandas dataframe, and the corresponding latitude and longitude data for each neighborhood will be obtainined and added to the dataframe. This information can be used to superimpose the neighborhoods over a map of Toronto using the Folium library. "
   ]
  },
  {
   "cell_type": "markdown",
   "metadata": {},
   "source": [
    "iii. Information on the venues present in each neighborhood will be obtained by making calls to Foursquare API, using a pre-defined radius. These will be compiled in a Pandas dataframe and the proportion of restaurants to other venues in each neighborhood will be calculated, and stored in a separate dataframe."
   ]
  },
  {
   "cell_type": "markdown",
   "metadata": {},
   "source": [
    "iii. Using K-means, the neighborhoods will be clustered according to their proportion of restaurants to other venues. The value of K will be pre-defined. The clusters of neighborhoods will be superimposed on a map of Toronto using Folium, with different-coloured points used to represent each cluster."
   ]
  }
 ],
 "metadata": {
  "kernelspec": {
   "display_name": "Python 3.6",
   "language": "python",
   "name": "python3"
  },
  "language_info": {
   "codemirror_mode": {
    "name": "ipython",
    "version": 3
   },
   "file_extension": ".py",
   "mimetype": "text/x-python",
   "name": "python",
   "nbconvert_exporter": "python",
   "pygments_lexer": "ipython3",
   "version": "3.6.9"
  }
 },
 "nbformat": 4,
 "nbformat_minor": 1
}
